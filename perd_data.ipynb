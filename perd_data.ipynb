{
 "cells": [
  {
   "cell_type": "code",
   "execution_count": 23,
   "metadata": {},
   "outputs": [],
   "source": [
    "import joblib\n",
    "model = joblib.load('model.joblib')"
   ]
  },
  {
   "cell_type": "code",
   "execution_count": 31,
   "metadata": {},
   "outputs": [
    {
     "data": {
      "text/html": [
       "<div>\n",
       "<style scoped>\n",
       "    .dataframe tbody tr th:only-of-type {\n",
       "        vertical-align: middle;\n",
       "    }\n",
       "\n",
       "    .dataframe tbody tr th {\n",
       "        vertical-align: top;\n",
       "    }\n",
       "\n",
       "    .dataframe thead th {\n",
       "        text-align: right;\n",
       "    }\n",
       "</style>\n",
       "<table border=\"1\" class=\"dataframe\">\n",
       "  <thead>\n",
       "    <tr style=\"text-align: right;\">\n",
       "      <th></th>\n",
       "      <th>Fare</th>\n",
       "      <th>Sex</th>\n",
       "      <th>Embarked</th>\n",
       "      <th>Pclass</th>\n",
       "      <th>Age</th>\n",
       "      <th>SibSp</th>\n",
       "      <th>Parch</th>\n",
       "    </tr>\n",
       "  </thead>\n",
       "  <tbody>\n",
       "    <tr>\n",
       "      <th>0</th>\n",
       "      <td>123.0</td>\n",
       "      <td>male</td>\n",
       "      <td>S</td>\n",
       "      <td>3</td>\n",
       "      <td>45.0</td>\n",
       "      <td>3</td>\n",
       "      <td>0</td>\n",
       "    </tr>\n",
       "  </tbody>\n",
       "</table>\n",
       "</div>"
      ],
      "text/plain": [
       "    Fare   Sex Embarked  Pclass   Age  SibSp  Parch\n",
       "0  123.0  male        S       3  45.0      3      0"
      ]
     },
     "execution_count": 31,
     "metadata": {},
     "output_type": "execute_result"
    }
   ],
   "source": [
    "import pandas as pd\n",
    "data = []\n",
    "row = []     \n",
    "fare = float(input(\"Fare: \"))\n",
    "sex = input(\"Sex (male/female): \")\n",
    "embarked = input(\"Embarked (C/Q/S): \")\n",
    "pclass = int(input(\"Pclass: \"))\n",
    "age = float(input(\"Age: \"))\n",
    "sibsp = int(input(\"SibSp: \"))\n",
    "parch = int(input(\"Parch: \"))\n",
    "row.extend([fare, sex, embarked, pclass, age, sibsp, parch])   \n",
    "data.append(row)\n",
    "df1=pd.DataFrame(data,columns=['Fare',\"Sex\",'Embarked','Pclass','Age','SibSp','Parch'])\n",
    "df1"
   ]
  },
  {
   "cell_type": "code",
   "execution_count": 32,
   "metadata": {},
   "outputs": [],
   "source": [
    "import pandas as pd\n",
    "#dimi data\n",
    "data = {\n",
    "    'Fare': [7.2,71.4,7.9,21.5,68,23,34,52,77],\n",
    "    'Sex': ['male','female','male','female','male','male','male','female','male'],\n",
    "    \"Embarked\":['S','S','S','S','S','C','C','C','Q'],\n",
    "    \"Pclass\":[1,2,3,4,5,4,3,2,1],\n",
    "    \"Age\":[22,33,54,65,54,66,87,32,98],\n",
    "    \"SibSp\":[1,1,1,1,1,0,0,0,0],\n",
    "    \"Parch\":[0,1,5,3,2,5,4,3,2]\n",
    "}\n",
    "\n",
    "df2=pd.DataFrame(data,columns=['Fare',\"Sex\",'Embarked','Pclass','Age','SibSp','Parch'])\n",
    "df=pd.concat([df2,df1])\n"
   ]
  },
  {
   "cell_type": "code",
   "execution_count": 33,
   "metadata": {},
   "outputs": [
    {
     "name": "stderr",
     "output_type": "stream",
     "text": [
      "c:\\Users\\ABC\\AppData\\Local\\Programs\\Python\\Python311\\Lib\\site-packages\\sklearn\\preprocessing\\_encoders.py:972: FutureWarning: `sparse` was renamed to `sparse_output` in version 1.2 and will be removed in 1.4. `sparse_output` is ignored unless you leave `sparse` to its default value.\n",
      "  warnings.warn(\n",
      "c:\\Users\\ABC\\AppData\\Local\\Programs\\Python\\Python311\\Lib\\site-packages\\sklearn\\preprocessing\\_encoders.py:972: FutureWarning: `sparse` was renamed to `sparse_output` in version 1.2 and will be removed in 1.4. `sparse_output` is ignored unless you leave `sparse` to its default value.\n",
      "  warnings.warn(\n"
     ]
    }
   ],
   "source": [
    "from sklearn.compose import ColumnTransformer\n",
    "from sklearn.preprocessing import OneHotEncoder\n",
    "from sklearn.preprocessing import FunctionTransformer\n",
    "import numpy as np\n",
    "transformer = ColumnTransformer([\n",
    "    ('tnf3',FunctionTransformer(func=np.log1p),['Fare']),\n",
    "    ('tnf1',OneHotEncoder(sparse=False),['Sex']),\n",
    "    ('tnf2',OneHotEncoder(sparse=False),['Embarked'])\n",
    "\n",
    "],remainder='passthrough')\n",
    "\n",
    "X_pred_transformed=transformer.fit_transform(df)"
   ]
  },
  {
   "cell_type": "code",
   "execution_count": null,
   "metadata": {},
   "outputs": [
    {
     "data": {
      "text/plain": [
       "array([ 3.71357207,  0.        ,  1.        ,  1.        ,  0.        ,\n",
       "        0.        ,  1.        , 36.        ,  0.        ,  1.        ])"
      ]
     },
     "execution_count": 19,
     "metadata": {},
     "output_type": "execute_result"
    }
   ],
   "source": [
    "first_row = X_pred_transformed[-1]\n",
    "first_row"
   ]
  },
  {
   "cell_type": "code",
   "execution_count": 34,
   "metadata": {},
   "outputs": [
    {
     "name": "stdout",
     "output_type": "stream",
     "text": [
      "Survived\n"
     ]
    }
   ],
   "source": [
    "x_p=model.predict([first_row])\n",
    "\n",
    "if x_p==0:\n",
    "    print(\"NO Survived\")\n",
    "else:\n",
    "    print('Survived')"
   ]
  }
 ],
 "metadata": {
  "kernelspec": {
   "display_name": "Python 3",
   "language": "python",
   "name": "python3"
  },
  "language_info": {
   "codemirror_mode": {
    "name": "ipython",
    "version": 3
   },
   "file_extension": ".py",
   "mimetype": "text/x-python",
   "name": "python",
   "nbconvert_exporter": "python",
   "pygments_lexer": "ipython3",
   "version": "3.11.4"
  },
  "orig_nbformat": 4
 },
 "nbformat": 4,
 "nbformat_minor": 2
}
