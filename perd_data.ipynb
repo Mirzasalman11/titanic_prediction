{
 "cells": [
  {
   "cell_type": "code",
   "execution_count": 48,
   "metadata": {},
   "outputs": [],
   "source": [
    "import joblib\n",
    "import pandas as pd\n",
    "model = joblib.load('model.joblib')"
   ]
  },
  {
   "cell_type": "code",
   "execution_count": 49,
   "metadata": {},
   "outputs": [],
   "source": [
    "def input_data(Fare,Sex,Embarked,Pclass,Age,SibSp,Parch):\n",
    "    list=[]\n",
    "    list.append(Fare)\n",
    "\n",
    "    if Sex==\"male\":\n",
    "        list.append(1)\n",
    "        list.append(0)\n",
    "    else:\n",
    "        list.append(0)\n",
    "        list.append(1)\n",
    "\n",
    "    if Embarked==\"S\":\n",
    "        list.append(1)\n",
    "        list.append(0)\n",
    "        list.append(0)\n",
    "    elif Embarked==\"C\":\n",
    "        list.append(0)\n",
    "        list.append(1)\n",
    "        list.append(0)\n",
    "    elif Embarked==\"Q\":\n",
    "        list.append(0)\n",
    "        list.append(0)\n",
    "        list.append(1)\n",
    "    \n",
    "    list.append(Pclass)\n",
    "    list.append(Age)\n",
    "    list.append(SibSp)\n",
    "    list.append(Parch)\n",
    "    \n",
    "    return list\n"
   ]
  },
  {
   "cell_type": "code",
   "execution_count": 50,
   "metadata": {},
   "outputs": [],
   "source": [
    "import pandas as pd\n",
    "data = []\n",
    "row = []     \n",
    "fare = float(input(\"Fare: \"))\n",
    "sex = input(\"Sex (male/female): \")\n",
    "embarked = input(\"Embarked (C/Q/S): \")\n",
    "pclass = int(input(\"Pclass: \"))\n",
    "age = float(input(\"Age: \"))\n",
    "sibsp = int(input(\"SibSp: \"))\n",
    "parch = int(input(\"Parch: \"))\n"
   ]
  },
  {
   "cell_type": "code",
   "execution_count": 51,
   "metadata": {},
   "outputs": [],
   "source": [
    "df=[input_data(fare,sex,embarked,pclass,age,sibsp,parch)]\n",
    "df2=pd.DataFrame(df,columns=['Fare',\"male\",'female','s','c','q','Pclass','Age','SibSp','Parch'])"
   ]
  },
  {
   "cell_type": "code",
   "execution_count": 52,
   "metadata": {},
   "outputs": [],
   "source": [
    "from sklearn.compose import ColumnTransformer\n",
    "from sklearn.preprocessing import FunctionTransformer\n",
    "import numpy as np\n",
    "transformer = ColumnTransformer([\n",
    "    ('tnf3',FunctionTransformer(func=np.log1p),['Fare'])\n",
    "\n",
    "],remainder='passthrough')\n",
    "\n",
    "X_pred_transformed=transformer.fit_transform(df2)"
   ]
  },
  {
   "cell_type": "code",
   "execution_count": 53,
   "metadata": {},
   "outputs": [
    {
     "name": "stdout",
     "output_type": "stream",
     "text": [
      "Survived\n"
     ]
    }
   ],
   "source": [
    "x_p=model.predict(X_pred_transformed)\n",
    "\n",
    "if x_p==0:\n",
    "    print(\"NO Survived\")\n",
    "else:\n",
    "    print('Survived')"
   ]
  }
 ],
 "metadata": {
  "kernelspec": {
   "display_name": "Python 3",
   "language": "python",
   "name": "python3"
  },
  "language_info": {
   "codemirror_mode": {
    "name": "ipython",
    "version": 3
   },
   "file_extension": ".py",
   "mimetype": "text/x-python",
   "name": "python",
   "nbconvert_exporter": "python",
   "pygments_lexer": "ipython3",
   "version": "3.11.4"
  },
  "orig_nbformat": 4
 },
 "nbformat": 4,
 "nbformat_minor": 2
}
